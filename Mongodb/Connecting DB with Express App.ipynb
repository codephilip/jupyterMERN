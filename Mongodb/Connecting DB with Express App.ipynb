{
 "cells": [
  {
   "cell_type": "markdown",
   "metadata": {},
   "source": [
    "## Connecting DB with the express app"
   ]
  },
  {
   "cell_type": "code",
   "execution_count": null,
   "metadata": {},
   "outputs": [],
   "source": [
    "//after installing mongoose npm i mongoose\n",
    "// config.env\n",
    "NODE_ENV=development\n",
    "PORT=3000\n",
    "DATABASE=mongodb+srv://codephilip:<PASSWORD>@cluster0-ocsih.mongodb.net/natours?retryWrites=true&w=majority\n",
    "DATABASE_LOCAL=mongodb://localhost:27017/natours\n",
    "DATABASE_PASSWORD=ourpass\n",
    "\n",
    "//server.js\n",
    "const mongoose = require('mongoose');\n",
    "const dotenv = require('dotenv');\n",
    "\n",
    "dotenv.config({ path: './config.env' });\n",
    "const app = require('./app');\n",
    "\n",
    "const DB = process.env.DATABASE.replace(\n",
    "  '<PASSWORD>',\n",
    "  process.env.DATABASE_PASSWORD\n",
    ");\n",
    "\n",
    "mongoose\n",
    "  .connect(DB, {\n",
    "    //options to deal with deprecation warnings. \n",
    "    useNewUrlParser: true,\n",
    "    useCreateIndex: true,\n",
    "    useFindAndModify: false\n",
    "  })\n",
    "  .then(() => console.log('DB connection successful!'));\n",
    "\n",
    "const port = process.env.PORT || 3000;\n",
    "app.listen(port, () => {\n",
    "  console.log(`App running on port ${port}...`);\n",
    "});\n"
   ]
  }
 ],
 "metadata": {
  "kernelspec": {
   "display_name": "Javascript (Node.js)",
   "language": "javascript",
   "name": "javascript"
  },
  "language_info": {
   "file_extension": ".js",
   "mimetype": "application/javascript",
   "name": "javascript",
   "version": "12.13.1"
  }
 },
 "nbformat": 4,
 "nbformat_minor": 2
}
