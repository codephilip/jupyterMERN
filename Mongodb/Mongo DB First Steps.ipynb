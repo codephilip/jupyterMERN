{
 "cells": [
  {
   "cell_type": "markdown",
   "metadata": {},
   "source": [
    "## Mongo DB First Steps"
   ]
  },
  {
   "cell_type": "raw",
   "metadata": {},
   "source": [
    "First, we want to install mongo with a PATH variable so that we can access it from the terminal. \n",
    "\n",
    "In order to run a db locally using the terminal, 2 steps are required: \n",
    "\n",
    "1. Start mongod in terminal by typing: mongod\n",
    "\n",
    "2. In another terminal (while mongod is running) type: mongo\n",
    "\n",
    "Voila! You are now able to code in mongodb locally. "
   ]
  },
  {
   "cell_type": "raw",
   "metadata": {},
   "source": [
    "Lets check out some basic command: \n",
    "\n",
    "show dbs\n",
    "\n",
    "See documentation here: https://docs.mongodb.com/manual/tutorial/getting-started/\n",
    "\n",
    "scroll through tabs: 0. Switch db, 1. populate a collection etc. and play around. \n",
    "\n",
    "\n",
    "\n"
   ]
  }
 ],
 "metadata": {
  "kernelspec": {
   "display_name": "Javascript (Node.js)",
   "language": "javascript",
   "name": "javascript"
  },
  "language_info": {
   "file_extension": ".js",
   "mimetype": "application/javascript",
   "name": "javascript",
   "version": "12.13.1"
  }
 },
 "nbformat": 4,
 "nbformat_minor": 2
}
