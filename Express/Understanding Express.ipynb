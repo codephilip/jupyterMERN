{
 "cells": [
  {
   "cell_type": "markdown",
   "metadata": {},
   "source": [
    "## Requires: \n"
   ]
  },
  {
   "cell_type": "code",
   "execution_count": null,
   "metadata": {},
   "outputs": [],
   "source": [
    "common requires\n",
    "\n",
    "var express = require('express');\n",
    "var path = require('path');\n",
    "var favicon = require('serve-favicon');\n",
    "var logger = require('morgan');\n",
    "var cookieParser = require('cookie-parser');\n",
    "var bodyParser = require('body-parser');\n",
    " \n",
    "var routes = require('./routes/index');\n",
    "var users = require('./routes/users');"
   ]
  },
  {
   "cell_type": "raw",
   "metadata": {},
   "source": [
    "express - This one is quite obvious. It imports the framework into your app.\n",
    "\n",
    "path - is a core Node module for working with and handling paths.\n",
    "\n",
    "serve-favicon - is Express middleware for serving a favicon. The advantage over just a normal favicon.ico on your public/ directory is that this module also deals with cache control. You can remove this module if you like because Express doesn't depend on it.\n",
    "\n",
    "morgan - is Express middleware for logging requests and responses. I like to use it during development and only during development so you can see what requests are being made. You can also remove this module without any consequences.\n",
    "\n",
    "cookie-parser - is Express middleware that helps you with handling cookies. Your request object will have a cookies object which you can acces use in your app. If your app doesn't use cookies you can leave it out.\n",
    "\n",
    "body-parser - is Express middleware you probably want to use if you're doing anything with forms. It will add a body object to your request so that you can access POST parameters.\n",
    "\n",
    "routes / users - are two dummy pages to show you how routing works. You could do all the routing in app.js but it will get messy as your application gets bigger.\n"
   ]
  },
  {
   "cell_type": "markdown",
   "metadata": {},
   "source": [
    "## app.use()"
   ]
  },
  {
   "cell_type": "code",
   "execution_count": null,
   "metadata": {},
   "outputs": [],
   "source": [
    "app.use(logger('dev'));\n",
    "app.use(bodyParser.json());\n",
    "app.use(bodyParser.urlencoded({ extended: false }));\n",
    "app.use(cookieParser());\n",
    "app.use(express.static(path.join(__dirname, 'public')));\n",
    "\n",
    "//Natours app.js\n",
    "const express = require('express');\n",
    "const morgan = require('morgan');\n",
    "\n",
    "const tourRouter = require('./routes/tourRoutes');\n",
    "const userRouter = require('./routes/userRoutes');\n",
    "\n",
    "const app = express();\n",
    "\n",
    "// 1) MIDDLEWARES\n",
    "if (process.env.NODE_ENV === 'development') {\n",
    "  app.use(morgan('dev'));\n",
    "}\n",
    "\n",
    "app.use(express.json());\n",
    "app.use(express.static(`${__dirname}/public`));\n",
    "\n",
    "app.use((req, res, next) => {\n",
    "  console.log('Hello from the middleware 👋');\n",
    "  next();\n",
    "});\n",
    "\n",
    "app.use((req, res, next) => {\n",
    "  req.requestTime = new Date().toISOString();\n",
    "  next();\n",
    "});\n",
    "\n",
    "// 3) ROUTES\n",
    "app.use('/api/v1/tours', tourRouter);\n",
    "app.use('/api/v1/users', userRouter);\n",
    "\n",
    "module.exports = app;\n"
   ]
  },
  {
   "cell_type": "raw",
   "metadata": {},
   "source": [
    "This method tells the app to use the parameters you're giving it. This can be a function or a path and a function. \n",
    "\n",
    "logger('dev') logs the requests to the console as seen above. The dev parameter means it will log a lot of information about the request such as the method, status code and response time.\n",
    "\n",
    "bodyParser.json() gives your app the ability to parse JSON. This is necessary for when you're sending data (which you probably will with a JavaScript application) in JSON format.\n",
    "\n",
    "bodyParser.urlencoded({ extended: false }) allows your app to read data from URLs (GET requests). Extended is true by default but you'll need the querystring module.\n",
    "\n",
    "As mentioned in requires, cookieParser() adds an cookie object to all the requests you get.\n",
    "\n",
    "express.static(path.join(__dirname, 'public')) tells your app to use the /public directory where you store images, stylesheets and scripts.\n",
    "\n",
    "Next up are two routing methods. You can see that they're different from the ones above because they have 2 parameters instead of one.\n",
    "\n",
    "app.use('/', routes);\n",
    "app.use('/users', users);\n",
    "\n",
    "The first parameter is the path, the second one is the function to execute. We separate the routes from the app.js because we don't want our app to be one big mess. Separating files in Node makes use of module.exports. I'll get to that in a bit.\n",
    "\n"
   ]
  },
  {
   "cell_type": "markdown",
   "metadata": {},
   "source": [
    "## The Special 404 Error"
   ]
  },
  {
   "cell_type": "code",
   "execution_count": null,
   "metadata": {},
   "outputs": [],
   "source": [
    "//midleware\n",
    "app.use(function(req, res, next) {\n",
    "    var err = new Error('Not Found');\n",
    "    err.status = 404;\n",
    "    next(err);\n",
    "});"
   ]
  },
  {
   "cell_type": "raw",
   "metadata": {},
   "source": [
    "In Express a 404 is not the result of an error but rather the app running out of options. Once the request doesn't match any of the routes, it will reach the following function.\n",
    "\n",
    "app.use(function(req, res, next) {\n",
    "    var err = new Error('Not Found');\n",
    "    err.status = 404;\n",
    "    next(err);\n",
    "});\n",
    "\n",
    "This will throw a new error (404) and pass it on the the app using next()."
   ]
  },
  {
   "cell_type": "markdown",
   "metadata": {},
   "source": [
    "## Error Handlers"
   ]
  },
  {
   "cell_type": "raw",
   "metadata": {},
   "source": [
    "When you're developing an Express app, you're going to make a few mistakes. Just like in any other programming language / framework. However some errors are really useful to you because you're a developer but might also be useful to someone with bad intentions. That's why we don't want to print a \"stack trace\" error when we're in production."
   ]
  },
  {
   "cell_type": "code",
   "execution_count": 1,
   "metadata": {},
   "outputs": [
    {
     "ename": "ReferenceError",
     "evalue": "app is not defined",
     "output_type": "error",
     "traceback": [
      "evalmachine.<anonymous>:1",
      "if (app.get('env') === 'development') {",
      "^",
      "",
      "ReferenceError: app is not defined",
      "    at evalmachine.<anonymous>:1:1",
      "    at Script.runInThisContext (vm.js:116:20)",
      "    at Object.runInThisContext (vm.js:306:38)",
      "    at run ([eval]:1054:15)",
      "    at onRunRequest ([eval]:888:18)",
      "    at onMessage ([eval]:848:13)",
      "    at process.emit (events.js:210:5)",
      "    at emit (internal/child_process.js:876:12)",
      "    at processTicksAndRejections (internal/process/task_queues.js:81:21)"
     ]
    }
   ],
   "source": [
    "if (app.get('env') === 'development') {\n",
    "    app.use(function(err, req, res, next) {\n",
    "        res.status(err.status || 500);\n",
    "        res.render('error', {\n",
    "            message: err.message,\n",
    "            error: err\n",
    "        });\n",
    "    });\n",
    "}\n",
    "\n",
    "app.use(function(err, req, res, next) {\n",
    "    res.status(err.status || 500);\n",
    "    res.render('error', {\n",
    "        message: err.message,\n",
    "        error: {}\n",
    "    });\n",
    "});\n",
    " "
   ]
  },
  {
   "cell_type": "raw",
   "metadata": {},
   "source": [
    "The only difference between the two is the response.render.\n",
    "\n",
    "res.render('error', {\n",
    "\tmessage: err.message,\n",
    "\terror: err\n",
    "});\n",
    "If we're in development mode (app.get('env') ) we do want to print the stack trace. In any other case we just want to show the user the error."
   ]
  },
  {
   "cell_type": "code",
   "execution_count": null,
   "metadata": {},
   "outputs": [],
   "source": []
  }
 ],
 "metadata": {
  "kernelspec": {
   "display_name": "Javascript (Node.js)",
   "language": "javascript",
   "name": "javascript"
  },
  "language_info": {
   "file_extension": ".js",
   "mimetype": "application/javascript",
   "name": "javascript",
   "version": "12.13.1"
  }
 },
 "nbformat": 4,
 "nbformat_minor": 2
}
