{
 "cells": [
  {
   "cell_type": "code",
   "execution_count": null,
   "metadata": {},
   "outputs": [],
   "source": [
    "//checkbody middleware\n",
    "//check if body contains the name and price\n",
    "\n",
    "//tourControllers.js\n",
    "exports.checkBody(req,res,next) =>{\n",
    "    if(!req.body.name || !req.body.price){\n",
    "        return res.status(400).json({\n",
    "            status: 'fail',\n",
    "            messsage: 'missing name or price'\n",
    "        })\n",
    "    }\n",
    "    next();\n",
    "};"
   ]
  },
  {
   "cell_type": "code",
   "execution_count": null,
   "metadata": {},
   "outputs": [],
   "source": [
    "//tourRoutes.js\n",
    "\n",
    "router\n",
    "    .route('/')\n",
    "    .get(tourController.getAllTours)\n",
    "    .post(tourController.checkBody, tourController.createTour);\n",
    "\n",
    "//this is done to check for contents, authentication, etc. "
   ]
  }
 ],
 "metadata": {
  "kernelspec": {
   "display_name": "Javascript (Node.js)",
   "language": "javascript",
   "name": "javascript"
  },
  "language_info": {
   "file_extension": ".js",
   "mimetype": "application/javascript",
   "name": "javascript",
   "version": "12.13.1"
  }
 },
 "nbformat": 4,
 "nbformat_minor": 2
}
