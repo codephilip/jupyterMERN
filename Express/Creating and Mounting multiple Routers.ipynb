{
 "cells": [
  {
   "cell_type": "code",
   "execution_count": null,
   "metadata": {},
   "outputs": [],
   "source": [
    " // 3) ROUTES\n",
    "//if we have a request for '/api/v1/tours', goes into middleware stack and will run tourRouter (middleware) \n",
    "\n",
    "\n",
    "\n",
    "//when creating router system its like creating sub app for each resource.\n",
    "\n",
    "const tourRouter = express.Router();\n",
    "const userRouter = express.Router();\n",
    "\n",
    "tourRouter\n",
    "    .route('/') //root: tourRouter middleware only runs on '/api/v1/tours' route anyway.  \n",
    "    .get(getAllTours)\n",
    "    .post(createTour);\n",
    "tourRouter\n",
    "    .route('/:id')\n",
    "    .get(getTours)\n",
    "    .patch(updateTour)\n",
    "    .delete(deleteTour);\n",
    "userRouter\n",
    "    .route('/')\n",
    "    .get(getAllUsers)\n",
    "    .post(createUser);\n",
    "userRouter\n",
    "    .route('/:id')\n",
    "    .get(getUser)\n",
    "    .patch(updateUser)\n",
    "    .delete(deleteUser);\n",
    "\n",
    "\n",
    "app.use('/api/v1/tours', tourRouter); //tour router is middleware function\n",
    "app.use('/api/v1/users', userRouter); //this is called 'Mounting the Router' "
   ]
  }
 ],
 "metadata": {
  "kernelspec": {
   "display_name": "Javascript (Node.js)",
   "language": "javascript",
   "name": "javascript"
  },
  "language_info": {
   "file_extension": ".js",
   "mimetype": "application/javascript",
   "name": "javascript",
   "version": "12.13.1"
  }
 },
 "nbformat": 4,
 "nbformat_minor": 2
}
