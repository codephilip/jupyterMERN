{
 "cells": [
  {
   "cell_type": "markdown",
   "metadata": {},
   "source": [
    "# HTTP Requests: GET and PUSH"
   ]
  },
  {
   "cell_type": "code",
   "execution_count": 3,
   "metadata": {
    "scrolled": false
   },
   "outputs": [
    {
     "ename": "SyntaxError",
     "evalue": "Identifier 'fs' has already been declared",
     "output_type": "error",
     "traceback": [
      "evalmachine.<anonymous>:1",
      "const fs = require('fs');",
      "^",
      "",
      "SyntaxError: Identifier 'fs' has already been declared",
      "    at evalmachine.<anonymous>:1:1",
      "    at Script.runInThisContext (vm.js:116:20)",
      "    at Object.runInThisContext (vm.js:306:38)",
      "    at run ([eval]:1054:15)",
      "    at onRunRequest ([eval]:888:18)",
      "    at onMessage ([eval]:848:13)",
      "    at process.emit (events.js:210:5)",
      "    at emit (internal/child_process.js:876:12)",
      "    at processTicksAndRejections (internal/process/task_queues.js:81:21)"
     ]
    }
   ],
   "source": [
    "const fs = require('fs');\n",
    "const express = require('express');\n",
    "\n",
    "const app = express();\n",
    "app.use(express.json());\n",
    "//(req,res) => called route handler \n",
    "\n",
    "const tours = JSON.parse(\n",
    "  fs.readFileSync(`${__dirname}/dev-data/data/tours-simple.json`)\n",
    ");\n",
    "\n",
    "app.get('/api/v1/tours', (req,res) => { \n",
    "  res.status(200).json({\n",
    "    status: 'success', \n",
    "    results: tours.length,\n",
    "    data: {\n",
    "      tours: tours\n",
    "    }\n",
    "  })\n",
    "});\n",
    "\n",
    "app.get('/api/v1/tours/:id', (req,res) => { \n",
    "  \n",
    "  console.log(req.params);\n",
    "  const id = req.params.id * 1;\n",
    "  const tour = tours.find(el => el.id === id);\n",
    "\n",
    "  //if(id > tours.length)\n",
    "  if(!tour){\n",
    "    return res.status(404).json({\n",
    "      status:'fail',\n",
    "      message: 'Invaliid Id'\n",
    "    });\n",
    "  }\n",
    "\n",
    "  res.status(200).json({\n",
    "    status: 'success',\n",
    "    data: {\n",
    "      tour\n",
    "    }\n",
    "  })\n",
    "});\n",
    "\n",
    "app.patch('/api/v1/tours/:id')\n",
    "\n",
    "const port = 3000;\n",
    "\n",
    "app.get('/', (req,res) => {\n",
    "  res.status(200).json({message: 'Hello from the server side.', app: 'Natours'});\n",
    "})\n",
    "\n",
    "\n",
    "app.post('/api/v1/tours', (req,res)=>{\n",
    "  //console.log(req.body);\n",
    "  \n",
    "  const newId = tours[tours.length-1].id + 1;\n",
    "  const newTour = Object.assign({id:newId}, req.body);\n",
    "\n",
    "  tours.push(newTour);\n",
    "  fs.writeFile(`${__dirname}/dev-data/data/tours-simple.json`, JSON.stringify(tours), err => {\n",
    "    res.status(201).json({\n",
    "      status:'success',\n",
    "      data:{\n",
    "        tour:newTour\n",
    "      }\n",
    "    });\n",
    "  })\n",
    "});\n",
    "\n",
    "app.listen(port, ()=> {\n",
    "  console.log(`App running on port ${port}...`);\n",
    "});\n",
    "\n",
    "\n",
    "module.exports = app;\n",
    "\n"
   ]
  },
  {
   "cell_type": "code",
   "execution_count": null,
   "metadata": {},
   "outputs": [],
   "source": []
  },
  {
   "cell_type": "code",
   "execution_count": null,
   "metadata": {},
   "outputs": [],
   "source": []
  }
 ],
 "metadata": {
  "kernelspec": {
   "display_name": "Javascript (Node.js)",
   "language": "javascript",
   "name": "javascript"
  },
  "language_info": {
   "file_extension": ".js",
   "mimetype": "application/javascript",
   "name": "javascript",
   "version": "12.13.1"
  }
 },
 "nbformat": 4,
 "nbformat_minor": 2
}
