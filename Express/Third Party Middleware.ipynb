{
 "cells": [
  {
   "cell_type": "markdown",
   "metadata": {},
   "source": [
    "## Third Party Middleware"
   ]
  },
  {
   "cell_type": "code",
   "execution_count": 2,
   "metadata": {},
   "outputs": [
    {
     "ename": "SyntaxError",
     "evalue": "Unexpected identifier",
     "output_type": "error",
     "traceback": [
      "evalmachine.<anonymous>:1",
      "npm i morgan",
      "    ^",
      "",
      "SyntaxError: Unexpected identifier",
      "    at new Script (vm.js:84:7)",
      "    at createScript (vm.js:258:10)",
      "    at Object.runInThisContext (vm.js:306:10)",
      "    at run ([eval]:1054:15)",
      "    at onRunRequest ([eval]:888:18)",
      "    at onMessage ([eval]:848:13)",
      "    at process.emit (events.js:210:5)",
      "    at emit (internal/child_process.js:876:12)",
      "    at processTicksAndRejections (internal/process/task_queues.js:81:21)"
     ]
    }
   ],
   "source": [
    "npm i morgan\n",
    "//not a dev dependency."
   ]
  },
  {
   "cell_type": "code",
   "execution_count": null,
   "metadata": {},
   "outputs": [],
   "source": [
    "const fs = require('fs');\n",
    "const express = require('express');\n",
    "const morgan = require('morgan');\n",
    "\n",
    "const app = express();\n",
    "\n",
    "//1) Middlewares\n",
    "app.use(morgan('dev'));\n",
    "app.use(express.json());\n",
    "\n",
    "app.use((req,res,next) => {\n",
    "   console.log('Hellofrom the middleware');\n",
    "    next();\n",
    "});\n",
    "\n",
    "app.use((req,res,next) => {\n",
    "    req.requestTime = new Date().toISOString();\n",
    "    next();\n",
    "});\n",
    "\n",
    "const tours = JSON.parse(\n",
    "    fs.readFileSync(`${__dirname}/dev-data/data/tours-simple.json`)\n",
    ");\n",
    "\n"
   ]
  },
  {
   "cell_type": "code",
   "execution_count": 3,
   "metadata": {},
   "outputs": [
    {
     "ename": "ReferenceError",
     "evalue": "app is not defined",
     "output_type": "error",
     "traceback": [
      "evalmachine.<anonymous>:34",
      "app",
      "^",
      "",
      "ReferenceError: app is not defined",
      "    at evalmachine.<anonymous>:34:1",
      "    at Script.runInThisContext (vm.js:116:20)",
      "    at Object.runInThisContext (vm.js:306:38)",
      "    at run ([eval]:1054:15)",
      "    at onRunRequest ([eval]:888:18)",
      "    at onMessage ([eval]:848:13)",
      "    at process.emit (events.js:210:5)",
      "    at emit (internal/child_process.js:876:12)",
      "    at processTicksAndRejections (internal/process/task_queues.js:81:21)"
     ]
    }
   ],
   "source": [
    "\n",
    "// 2) ROUTE HANDLERS\n",
    "const deleteTour = (req,res) => {\n",
    "    res.status(500).json({\n",
    "        status:'error',\n",
    "        message: 'this route is not yet defined.'\n",
    "    })\n",
    "}\n",
    "const getAllUsers = (req,res) => {\n",
    "    res.status(500).json({\n",
    "        status:'error',\n",
    "        message: 'this route is not yet defined.'\n",
    "    })\n",
    "}\n",
    "const createUsers = (req,res) => {\n",
    "    res.status(500).json({\n",
    "        status:'error',\n",
    "        message: 'this route is not yet defined.'\n",
    "    })\n",
    "}\n",
    "const updateUsers = (req,res) => {\n",
    "    res.status(500).json({\n",
    "        status:'error',\n",
    "        message: 'this route is not yet defined.'\n",
    "    })\n",
    "}\n",
    "const deleteUsers = (req,res) => {\n",
    "    res.status(500).json({\n",
    "        status:'error',\n",
    "        message: 'this route is not yet defined.'\n",
    "    })\n",
    "}\n",
    "\n",
    "// 3) ROUTES\n",
    "\n",
    "app\n",
    "    .route('/api/v1/tours')\n",
    "    .get(getAllTours)\n",
    "    .post(createTour);\n",
    "app\n",
    "    .route('/api/v1/tours/:id')\n",
    "    .get(getTours)\n",
    "    .patch(updateTour)\n",
    "    .delete(deleteTour);\n",
    "app\n",
    "    .route('/api/v1/tours')\n",
    "    .get(getAllUsers)\n",
    "    .post(createUser);\n",
    "app\n",
    "    .route('/api/v1/tours/:id')\n",
    "    .get(getUser)\n",
    "    .patch(updateUser)\n",
    "    .delete(deleteUser);\n",
    "\n",
    "// 4) START SERVER\n",
    "const port = 3000;\n",
    "app.listen(port, () => {\n",
    "    console.log(`App running on port ${port}..`);\n",
    "})"
   ]
  },
  {
   "cell_type": "code",
   "execution_count": null,
   "metadata": {},
   "outputs": [],
   "source": []
  },
  {
   "cell_type": "code",
   "execution_count": null,
   "metadata": {},
   "outputs": [],
   "source": []
  }
 ],
 "metadata": {
  "kernelspec": {
   "display_name": "Javascript (Node.js)",
   "language": "javascript",
   "name": "javascript"
  },
  "language_info": {
   "file_extension": ".js",
   "mimetype": "application/javascript",
   "name": "javascript",
   "version": "12.13.1"
  }
 },
 "nbformat": 4,
 "nbformat_minor": 2
}
