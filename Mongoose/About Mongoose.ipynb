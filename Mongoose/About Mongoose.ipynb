{
 "cells": [
  {
   "cell_type": "raw",
   "metadata": {},
   "source": [
    "What is Mongoose and why we use it? \n",
    "\n",
    "Mongoose is an Object Data Modeling (ODM) library for mongoDB and NodeJS - higher level of abstraction. \n",
    "\n",
    "Mongoose allows for rapid and simple development of MongoDB database interactions. \n",
    "\n",
    "Features: Schemas to model data and relationships, easy data validation, simple query API, middleware, etc.\n",
    "\n",
    "    Mongoose Schema: where we model data, by describing the structure of data, default values, and validation. \n",
    "\n",
    "    Mongoose Model: A wrapper for the Schema, providing an interface to the database for CRUD operations.\n"
   ]
  },
  {
   "cell_type": "code",
   "execution_count": null,
   "metadata": {},
   "outputs": [],
   "source": [
    "//models/tourModels.js\n",
    "const mongoose = require('mongoose');\n",
    "\n",
    "const tourSchema = new mongoose.Schema({\n",
    "    name:{\n",
    "        type: String,\n",
    "        required: [true, 'A tour must have a name.'],\n",
    "        unique: true\n",
    "    },\n",
    "    rating:{\n",
    "        type: Number,\n",
    "        default: 4.5\n",
    "    },\n",
    "    price:{\n",
    "        type:Number, \n",
    "        required: [true, 'A tour must have a price']\n",
    "    }\n",
    "});\n",
    "\n",
    "const Tour = mongoose.model('Tour', tourSchema);\n",
    "\n",
    "module.exports = Tour;"
   ]
  }
 ],
 "metadata": {
  "kernelspec": {
   "display_name": "Javascript (Node.js)",
   "language": "javascript",
   "name": "javascript"
  },
  "language_info": {
   "file_extension": ".js",
   "mimetype": "application/javascript",
   "name": "javascript",
   "version": "12.13.1"
  }
 },
 "nbformat": 4,
 "nbformat_minor": 2
}
