{
 "cells": [
  {
   "cell_type": "markdown",
   "metadata": {},
   "source": [
    "## Reading Documents"
   ]
  },
  {
   "cell_type": "code",
   "execution_count": null,
   "metadata": {},
   "outputs": [],
   "source": [
    "const Tour = require('./../models/tourModel');\n",
    "\n",
    "exports.getAllTours = async (req, res) => {\n",
    "  try {\n",
    "    // EXECUTE QUERY\n",
    "    const features = new APIFeatures(Tour.find(), req.query)\n",
    "      .filter()\n",
    "      .sort()\n",
    "      .limitFields()\n",
    "      .paginate();\n",
    "    const tours = await features.query;\n",
    "\n",
    "    // SEND RESPONSE\n",
    "    res.status(200).json({\n",
    "      status: 'success',\n",
    "      results: tours.length,\n",
    "      data: {\n",
    "        tours\n",
    "      }\n",
    "    });\n",
    "  } catch (err) {\n",
    "    res.status(404).json({\n",
    "      status: 'fail',\n",
    "      message: err\n",
    "    });\n",
    "  }\n",
    "};\n",
    "\n",
    "exports.getTour = async (req, res) => {\n",
    "  try {\n",
    "    const tour = await Tour.findById(req.params.id);\n",
    "    // Tour.findOne({ _id: req.params.id })\n",
    "    //findById is mongoose method req.params.name\n",
    "\n",
    "    res.status(200).json({\n",
    "      status: 'success',\n",
    "      data: {\n",
    "        tour\n",
    "      }\n",
    "    });\n",
    "  } catch (err) {\n",
    "    res.status(404).json({\n",
    "      status: 'fail',\n",
    "      message: err\n",
    "    });\n",
    "  }\n",
    "};\n"
   ]
  }
 ],
 "metadata": {
  "kernelspec": {
   "display_name": "Javascript (Node.js)",
   "language": "javascript",
   "name": "javascript"
  },
  "language_info": {
   "file_extension": ".js",
   "mimetype": "application/javascript",
   "name": "javascript",
   "version": "12.13.1"
  }
 },
 "nbformat": 4,
 "nbformat_minor": 2
}
