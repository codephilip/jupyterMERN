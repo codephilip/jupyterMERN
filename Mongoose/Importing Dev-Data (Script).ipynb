{
 "cells": [
  {
   "cell_type": "markdown",
   "metadata": {},
   "source": [
    "## Importing Dev Data Script "
   ]
  },
  {
   "cell_type": "code",
   "execution_count": null,
   "metadata": {},
   "outputs": [],
   "source": [
    "const fs = require('fs');\n",
    "const mongoose = require('mongoose');\n",
    "const dotenv = require('dotenv');\n",
    "const Tour = require('./../../models/tourModel');\n",
    "\n",
    "dotenv.config({ path: './config.env' });\n",
    "\n",
    "const DB = process.env.DATABASE.replace(\n",
    "  '<PASSWORD>',\n",
    "  process.env.DATABASE_PASSWORD\n",
    ");\n",
    "\n",
    "mongoose\n",
    "  .connect(DB, {\n",
    "    useNewUrlParser: true,\n",
    "    useCreateIndex: true,\n",
    "    useFindAndModify: false\n",
    "  })\n",
    "  .then(() => console.log('DB connection successful!'));\n",
    "\n",
    "// READ JSON FILE\n",
    "const tours = JSON.parse(\n",
    "  fs.readFileSync(`${__dirname}/tours-simple.json`, 'utf-8')\n",
    ");\n",
    "\n",
    "// IMPORT DATA INTO DB\n",
    "const importData = async () => {\n",
    "  try {\n",
    "    await Tour.create(tours);\n",
    "    console.log('Data successfully loaded!');\n",
    "  } catch (err) {\n",
    "    console.log(err);\n",
    "  }\n",
    "  process.exit();\n",
    "};\n",
    "\n",
    "// DELETE ALL DATA FROM DB\n",
    "const deleteData = async () => {\n",
    "  try {\n",
    "    await Tour.deleteMany();\n",
    "    console.log('Data successfully deleted!');\n",
    "  } catch (err) {\n",
    "    console.log(err);\n",
    "  }\n",
    "  process.exit();\n",
    "};\n",
    "\n",
    "if (process.argv[2] === '--import') {\n",
    "  importData();\n",
    "} else if (process.argv[2] === '--delete') {\n",
    "  deleteData();\n",
    "}\n"
   ]
  }
 ],
 "metadata": {
  "kernelspec": {
   "display_name": "Javascript (Node.js)",
   "language": "javascript",
   "name": "javascript"
  },
  "language_info": {
   "file_extension": ".js",
   "mimetype": "application/javascript",
   "name": "javascript",
   "version": "12.13.1"
  }
 },
 "nbformat": 4,
 "nbformat_minor": 2
}
