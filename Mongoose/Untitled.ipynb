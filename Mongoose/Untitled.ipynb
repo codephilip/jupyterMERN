{
 "cells": [
  {
   "cell_type": "markdown",
   "metadata": {},
   "source": [
    "## API Features"
   ]
  },
  {
   "cell_type": "markdown",
   "metadata": {},
   "source": [
    "## Filtering and Query Strings"
   ]
  },
  {
   "cell_type": "code",
   "execution_count": null,
   "metadata": {},
   "outputs": [],
   "source": [
    "//tourContoller.js \n",
    "\n",
    "exports.getAllTours = async (req, res) => {\n",
    "  try{ \n",
    "    \n",
    "    //BUILD QUERY\n",
    "    //new objec contains all key-value pairs of req.query\n",
    "    const queryObj = { ...req.query };\n",
    "    const excludedFields = ['page', 'sort', 'limit', 'fields'];\n",
    "    //delete excluded fields from queryObj\n",
    "    excludedFields.forEach(el => delete queryObj[el]);\n",
    "    console.log(req.query, queryObj);\n",
    "    console.log(req.requestTime);\n",
    "    //tour.fjnd returs array and formats into javascript object. \n",
    "    //basic filter:\n",
    "    const query = Tour.find(queryObj);   \n",
    "      \n",
    "    /* const tours = await Tour.find({\n",
    "      duration:5,\n",
    "      difficulty: 'easy'\n",
    "    }); */\n",
    "    //alternatively:\n",
    "    /*const tours = await Tour.find()\n",
    "      .where('duration').equals(5) //.lt(5).gte(5), etc. \n",
    "      .where('difficulty').equals('easy');\n",
    "    */\n",
    "    \n",
    "      \n",
    "    //EXECUTE QUERY\n",
    "    const tours = await query;\n",
    "    \n",
    "    //SEND RESPONSE\n",
    "    res.status(200).json({\n",
    "      status: 'success',\n",
    "      requestedAt: req.requestTime,\n",
    "      results: tours.length,\n",
    "      data:{\n",
    "        tours\n",
    "      }\n",
    "    });\n",
    "  }catch(err){\n",
    "    res.status(404).json({\n",
    "      status:'fail',\n",
    "      message:err\n",
    "    });\n",
    "  }\n",
    "\n",
    "};"
   ]
  },
  {
   "cell_type": "code",
   "execution_count": 1,
   "metadata": {},
   "outputs": [],
   "source": [
    "//Query is a mongoose method: Check out documentation for .query()"
   ]
  },
  {
   "cell_type": "markdown",
   "metadata": {},
   "source": [
    "## Advanced Filtering "
   ]
  },
  {
   "cell_type": "code",
   "execution_count": null,
   "metadata": {},
   "outputs": [],
   "source": []
  }
 ],
 "metadata": {
  "kernelspec": {
   "display_name": "Javascript (Node.js)",
   "language": "javascript",
   "name": "javascript"
  },
  "language_info": {
   "file_extension": ".js",
   "mimetype": "application/javascript",
   "name": "javascript",
   "version": "12.13.1"
  }
 },
 "nbformat": 4,
 "nbformat_minor": 2
}
